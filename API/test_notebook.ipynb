{
 "cells": [
  {
   "cell_type": "code",
   "execution_count": 1,
   "metadata": {},
   "outputs": [],
   "source": [
    "from flask import Flask\n",
    "import string \n",
    "import random \n",
    "import cv2 \n",
    "from random import uniform, shuffle\n",
    "from io import StringIO\n",
    "from PIL import ImageFont, Image, ImageDraw\n",
    "import numpy, pylab\n",
    "from mpl_toolkits.mplot3d import Axes3D\n"
   ]
  },
  {
   "cell_type": "code",
   "execution_count": 2,
   "metadata": {},
   "outputs": [
    {
     "data": {
      "text/plain": [
       "<firebase_admin.App at 0x1a6901e6a00>"
      ]
     },
     "execution_count": 2,
     "metadata": {},
     "output_type": "execute_result"
    }
   ],
   "source": [
    "import firebase_admin\n",
    "from firebase_admin import credentials\n",
    "\n",
    "cred = credentials.Certificate(\"recaptcha-uic-firebase-adminsdk-tnftx-0485752be3.json\")\n",
    "firebase_admin.initialize_app(cred,{'storageBucket': 'recaptcha-uic.appspot.com'})\n"
   ]
  },
  {
   "cell_type": "code",
   "execution_count": 3,
   "metadata": {},
   "outputs": [],
   "source": [
    "from firebase_admin import firestore, storage\n",
    "db = firestore.client()"
   ]
  },
  {
   "cell_type": "code",
   "execution_count": 5,
   "metadata": {},
   "outputs": [
    {
     "name": "stdout",
     "output_type": "stream",
     "text": [
      "GIW4xtD86yUOt0aOJw1W => {'password': '12345678', 'email': 'admin.admin@testmail.com', 'first_name': 'Admin', 'last_name': 'Admin'}\n"
     ]
    }
   ],
   "source": [
    "# Note: Use of CollectionRef stream() is prefered to get()\n",
    "docs = db.collection('User').stream()\n",
    "for doc in docs:\n",
    "    print(f'{doc.id} => {doc.to_dict()}')"
   ]
  },
  {
   "cell_type": "code",
   "execution_count": 4,
   "metadata": {},
   "outputs": [],
   "source": [
    "import os"
   ]
  },
  {
   "cell_type": "code",
   "execution_count": 20,
   "metadata": {},
   "outputs": [],
   "source": [
    "def upload_file(fileName):\n",
    "    # Put your local file path \n",
    "    bucket = storage.bucket()\n",
    "    blob = bucket.blob('images/'+fileName.split('/')[-1])\n",
    "    blob.upload_from_filename(fileName)\n",
    "    # Opt : if you want to make public access from the URL\n",
    "    blob.make_public()\n",
    "    print(\"your file url\", blob.public_url)\n",
    "    return blob.public_url\n",
    "def upload_core_file(fileName):\n",
    "    # Put your local file path \n",
    "    bucket = storage.bucket()\n",
    "    blob = bucket.blob('Recaptcha_js/css/'+fileName.split('/')[-1])\n",
    "    blob.upload_from_filename(fileName)\n",
    "    # Opt : if you want to make public access from the URL\n",
    "    blob.make_public()\n",
    "    print(\"your file url\", blob.public_url)\n",
    "    return blob.public_url\n",
    "    \n",
    "def add_captcha(type_,answer,filepath,i):\n",
    "    file_url=upload_file(filepath)\n",
    "    new_city_ref = db.collection('Captchas').document()\n",
    "    new_city_ref.set({    \n",
    "        'type':type_,\n",
    "        'level':'simple',\n",
    "        'image':file_url,  \n",
    "        'position':i,\n",
    "        'solution':answer #either series 1-2-3-4 or words AedF5k\n",
    "    })\n"
   ]
  },
  {
   "cell_type": "code",
   "execution_count": 18,
   "metadata": {},
   "outputs": [
    {
     "data": {
      "text/plain": [
       "'d:\\\\KES\\\\Projet_API_Recaptcha\\\\Recaptcha_UIT\\\\assets\\\\css'"
      ]
     },
     "execution_count": 18,
     "metadata": {},
     "output_type": "execute_result"
    }
   ],
   "source": [
    "os.chdir('d:\\\\KES\\\\Projet_API_Recaptcha\\\\Recaptcha_UIT\\\\assets\\\\css')\n",
    "os.getcwd()"
   ]
  },
  {
   "cell_type": "code",
   "execution_count": 19,
   "metadata": {},
   "outputs": [
    {
     "data": {
      "text/plain": [
       "['bootstrap-theme.css',\n",
       " 'bootstrap.min.css',\n",
       " 'font-awesome.min.css',\n",
       " 'main.css',\n",
       " 'styles.css',\n",
       " 'styles_plugins.css',\n",
       " 'styles_shop.css']"
      ]
     },
     "execution_count": 19,
     "metadata": {},
     "output_type": "execute_result"
    }
   ],
   "source": [
    "os.listdir()"
   ]
  },
  {
   "cell_type": "code",
   "execution_count": 21,
   "metadata": {},
   "outputs": [
    {
     "name": "stdout",
     "output_type": "stream",
     "text": [
      "your file url https://storage.googleapis.com/recaptcha-uic.appspot.com/Recaptcha_js/css/bootstrap-theme.css\n",
      "your file url https://storage.googleapis.com/recaptcha-uic.appspot.com/Recaptcha_js/css/bootstrap.min.css\n",
      "your file url https://storage.googleapis.com/recaptcha-uic.appspot.com/Recaptcha_js/css/font-awesome.min.css\n",
      "your file url https://storage.googleapis.com/recaptcha-uic.appspot.com/Recaptcha_js/css/main.css\n",
      "your file url https://storage.googleapis.com/recaptcha-uic.appspot.com/Recaptcha_js/css/styles.css\n",
      "your file url https://storage.googleapis.com/recaptcha-uic.appspot.com/Recaptcha_js/css/styles_plugins.css\n",
      "your file url https://storage.googleapis.com/recaptcha-uic.appspot.com/Recaptcha_js/css/styles_shop.css\n"
     ]
    }
   ],
   "source": [
    "for f_ in os.listdir():\n",
    "    upload_core_file(f_)"
   ]
  },
  {
   "cell_type": "code",
   "execution_count": 77,
   "metadata": {},
   "outputs": [
    {
     "name": "stdout",
     "output_type": "stream",
     "text": [
      "your file url https://storage.googleapis.com/recaptcha-uic.appspot.com/images/1%2B11.png\n",
      "your file url https://storage.googleapis.com/recaptcha-uic.appspot.com/images/1%2B14.png\n",
      "your file url https://storage.googleapis.com/recaptcha-uic.appspot.com/images/10%2B14.png\n",
      "your file url https://storage.googleapis.com/recaptcha-uic.appspot.com/images/10%2B17.png\n",
      "your file url https://storage.googleapis.com/recaptcha-uic.appspot.com/images/10-1.png\n",
      "your file url https://storage.googleapis.com/recaptcha-uic.appspot.com/images/10-4.png\n",
      "your file url https://storage.googleapis.com/recaptcha-uic.appspot.com/images/10-6.png\n",
      "your file url https://storage.googleapis.com/recaptcha-uic.appspot.com/images/11%2B11.png\n",
      "your file url https://storage.googleapis.com/recaptcha-uic.appspot.com/images/11%2B17.png\n",
      "your file url https://storage.googleapis.com/recaptcha-uic.appspot.com/images/11-8.png\n",
      "your file url https://storage.googleapis.com/recaptcha-uic.appspot.com/images/12%2B15.png\n",
      "your file url https://storage.googleapis.com/recaptcha-uic.appspot.com/images/12%2B20.png\n",
      "your file url https://storage.googleapis.com/recaptcha-uic.appspot.com/images/12-1.png\n",
      "your file url https://storage.googleapis.com/recaptcha-uic.appspot.com/images/12-6.1.png\n",
      "your file url https://storage.googleapis.com/recaptcha-uic.appspot.com/images/12-6.png\n",
      "your file url https://storage.googleapis.com/recaptcha-uic.appspot.com/images/12-7.png\n",
      "your file url https://storage.googleapis.com/recaptcha-uic.appspot.com/images/13%2B13.png\n",
      "your file url https://storage.googleapis.com/recaptcha-uic.appspot.com/images/13-2.png\n",
      "your file url https://storage.googleapis.com/recaptcha-uic.appspot.com/images/13-5.png\n",
      "your file url https://storage.googleapis.com/recaptcha-uic.appspot.com/images/13-6.png\n",
      "your file url https://storage.googleapis.com/recaptcha-uic.appspot.com/images/14%2B14.png\n",
      "your file url https://storage.googleapis.com/recaptcha-uic.appspot.com/images/14%2B17.png\n",
      "your file url https://storage.googleapis.com/recaptcha-uic.appspot.com/images/14%2B19.png\n",
      "your file url https://storage.googleapis.com/recaptcha-uic.appspot.com/images/14-10.png\n",
      "your file url https://storage.googleapis.com/recaptcha-uic.appspot.com/images/14-13.png\n",
      "your file url https://storage.googleapis.com/recaptcha-uic.appspot.com/images/14-5.png\n",
      "your file url https://storage.googleapis.com/recaptcha-uic.appspot.com/images/14-8.png\n",
      "your file url https://storage.googleapis.com/recaptcha-uic.appspot.com/images/15%2B15.png\n",
      "your file url https://storage.googleapis.com/recaptcha-uic.appspot.com/images/15-11.png\n",
      "your file url https://storage.googleapis.com/recaptcha-uic.appspot.com/images/15-14.png\n",
      "your file url https://storage.googleapis.com/recaptcha-uic.appspot.com/images/15-4.png\n",
      "your file url https://storage.googleapis.com/recaptcha-uic.appspot.com/images/15-7.png\n",
      "your file url https://storage.googleapis.com/recaptcha-uic.appspot.com/images/15-8.png\n",
      "your file url https://storage.googleapis.com/recaptcha-uic.appspot.com/images/15-9.png\n",
      "your file url https://storage.googleapis.com/recaptcha-uic.appspot.com/images/16-1.png\n",
      "your file url https://storage.googleapis.com/recaptcha-uic.appspot.com/images/16-14.png\n",
      "your file url https://storage.googleapis.com/recaptcha-uic.appspot.com/images/16-4.png\n",
      "your file url https://storage.googleapis.com/recaptcha-uic.appspot.com/images/16-5.png\n",
      "your file url https://storage.googleapis.com/recaptcha-uic.appspot.com/images/16-8.png\n",
      "your file url https://storage.googleapis.com/recaptcha-uic.appspot.com/images/17%2B20.png\n",
      "your file url https://storage.googleapis.com/recaptcha-uic.appspot.com/images/17-12.png\n",
      "your file url https://storage.googleapis.com/recaptcha-uic.appspot.com/images/17-13.png\n",
      "your file url https://storage.googleapis.com/recaptcha-uic.appspot.com/images/17-14.png\n",
      "your file url https://storage.googleapis.com/recaptcha-uic.appspot.com/images/17-2.png\n",
      "your file url https://storage.googleapis.com/recaptcha-uic.appspot.com/images/17-3.png\n",
      "your file url https://storage.googleapis.com/recaptcha-uic.appspot.com/images/17-4.png\n",
      "your file url https://storage.googleapis.com/recaptcha-uic.appspot.com/images/18%2B20.png\n",
      "your file url https://storage.googleapis.com/recaptcha-uic.appspot.com/images/18-14.png\n",
      "your file url https://storage.googleapis.com/recaptcha-uic.appspot.com/images/18-5.png\n",
      "your file url https://storage.googleapis.com/recaptcha-uic.appspot.com/images/18-8.png\n",
      "your file url https://storage.googleapis.com/recaptcha-uic.appspot.com/images/19%2B19.png\n",
      "your file url https://storage.googleapis.com/recaptcha-uic.appspot.com/images/19-11.png\n",
      "your file url https://storage.googleapis.com/recaptcha-uic.appspot.com/images/19-17.png\n",
      "your file url https://storage.googleapis.com/recaptcha-uic.appspot.com/images/19-4.png\n",
      "your file url https://storage.googleapis.com/recaptcha-uic.appspot.com/images/19-7.png\n",
      "your file url https://storage.googleapis.com/recaptcha-uic.appspot.com/images/1_1.png\n",
      "your file url https://storage.googleapis.com/recaptcha-uic.appspot.com/images/1_3.png\n",
      "your file url https://storage.googleapis.com/recaptcha-uic.appspot.com/images/2%2B20.png\n",
      "your file url https://storage.googleapis.com/recaptcha-uic.appspot.com/images/2%2B7.png\n",
      "your file url https://storage.googleapis.com/recaptcha-uic.appspot.com/images/2%2B8.png\n",
      "your file url https://storage.googleapis.com/recaptcha-uic.appspot.com/images/20-12.png\n",
      "your file url https://storage.googleapis.com/recaptcha-uic.appspot.com/images/20-14.png\n",
      "your file url https://storage.googleapis.com/recaptcha-uic.appspot.com/images/20-17.png\n",
      "your file url https://storage.googleapis.com/recaptcha-uic.appspot.com/images/20-9.png\n",
      "your file url https://storage.googleapis.com/recaptcha-uic.appspot.com/images/3%2B19.png\n",
      "your file url https://storage.googleapis.com/recaptcha-uic.appspot.com/images/3%2B20.png\n",
      "your file url https://storage.googleapis.com/recaptcha-uic.appspot.com/images/3%2B7.png\n",
      "your file url https://storage.googleapis.com/recaptcha-uic.appspot.com/images/3%2B8.png\n",
      "your file url https://storage.googleapis.com/recaptcha-uic.appspot.com/images/4%2B6.png\n",
      "your file url https://storage.googleapis.com/recaptcha-uic.appspot.com/images/4%2B7.png\n",
      "your file url https://storage.googleapis.com/recaptcha-uic.appspot.com/images/4_5.png\n",
      "your file url https://storage.googleapis.com/recaptcha-uic.appspot.com/images/5%2B11.png\n",
      "your file url https://storage.googleapis.com/recaptcha-uic.appspot.com/images/5%2B12.png\n",
      "your file url https://storage.googleapis.com/recaptcha-uic.appspot.com/images/5%2B15.png\n",
      "your file url https://storage.googleapis.com/recaptcha-uic.appspot.com/images/5_1.png\n",
      "your file url https://storage.googleapis.com/recaptcha-uic.appspot.com/images/6%2B12.png\n",
      "your file url https://storage.googleapis.com/recaptcha-uic.appspot.com/images/6%2B17.png\n",
      "your file url https://storage.googleapis.com/recaptcha-uic.appspot.com/images/6%2B9.png\n",
      "your file url https://storage.googleapis.com/recaptcha-uic.appspot.com/images/6-3.png\n",
      "your file url https://storage.googleapis.com/recaptcha-uic.appspot.com/images/6-4.png\n",
      "your file url https://storage.googleapis.com/recaptcha-uic.appspot.com/images/7%2B14.png\n",
      "your file url https://storage.googleapis.com/recaptcha-uic.appspot.com/images/7%2B18.png\n",
      "your file url https://storage.googleapis.com/recaptcha-uic.appspot.com/images/7%2B19.png\n",
      "your file url https://storage.googleapis.com/recaptcha-uic.appspot.com/images/7%2B8.png\n",
      "your file url https://storage.googleapis.com/recaptcha-uic.appspot.com/images/7-1.png\n",
      "your file url https://storage.googleapis.com/recaptcha-uic.appspot.com/images/8%2B10.png\n",
      "your file url https://storage.googleapis.com/recaptcha-uic.appspot.com/images/8%2B13.png\n",
      "your file url https://storage.googleapis.com/recaptcha-uic.appspot.com/images/8-4.png\n",
      "your file url https://storage.googleapis.com/recaptcha-uic.appspot.com/images/9%2B14.png\n",
      "your file url https://storage.googleapis.com/recaptcha-uic.appspot.com/images/9-11.png\n",
      "your file url https://storage.googleapis.com/recaptcha-uic.appspot.com/images/9-2.png\n",
      "your file url https://storage.googleapis.com/recaptcha-uic.appspot.com/images/9-8.png\n"
     ]
    }
   ],
   "source": [
    "i=0\n",
    "for dir in os.listdir('captchas'):\n",
    "    if dir == \"maths\":\n",
    "        for f_ in os.listdir('captchas/'+dir):\n",
    "            res=1000\n",
    "            oper=f_.split('.')[0]\n",
    "            if len(oper.split('+'))==2:\n",
    "                res=int(oper.split('+')[0])+int(oper.split('+')[1])\n",
    "                add_captcha(dir,res,'captchas/'+dir+'/'+f_,i)\n",
    "                i+=1\n",
    "            if len(oper.split('-'))==2:\n",
    "                res=int(oper.split('-')[0])-int(oper.split('-')[1])\n",
    "                add_captcha(dir,res,'captchas/'+dir+'/'+f_,i)\n",
    "                i+=1\n",
    "            if len(oper.split('_'))==2 :\n",
    "                res=int(oper.split('_')[0])*int(oper.split('_')[1])\n",
    "                add_captcha(dir,res,'captchas/'+dir+'/'+f_,i)\n",
    "                i+=1\n",
    "            \n"
   ]
  },
  {
   "cell_type": "code",
   "execution_count": null,
   "metadata": {},
   "outputs": [],
   "source": [
    "for dir in os.listdir('captchas'):\n",
    "    if dir == \"images\":\n",
    "        for obj_ in os.listdir('captchas/'+dir):\n",
    "            #print(dir+ '*****'+f_.split('.')[0]+ '*****'+'captchas/'+dir+'/'+f_)\n",
    "            for f_ in os.listdir('captchas/'+dir+'/'+obj_):\n",
    "                add_captcha(dir,obj_,'captchas/'+dir+'/'+obj_+'/'+f_)"
   ]
  },
  {
   "cell_type": "code",
   "execution_count": 8,
   "metadata": {},
   "outputs": [],
   "source": [
    "import pylab"
   ]
  },
  {
   "cell_type": "code",
   "execution_count": null,
   "metadata": {},
   "outputs": [],
   "source": [
    "object captcha {\n",
    "    'type':'words',\n",
    "    'level':'simple',\n",
    "    'image':'Url',\n",
    "    'solution':'words' #either series 1-2-3-4 or words AedF5k\n",
    "}"
   ]
  },
  {
   "cell_type": "code",
   "execution_count": 88,
   "metadata": {},
   "outputs": [],
   "source": [
    "def Evaluate_times(times,typ):\n",
    "    times_=times.split('#') #in ms\n",
    "    latency=int(times_[0])\n",
    "    completion=int(time_[1])\n",
    "    minTyping=int(time_[2])\n",
    "    minSelecting=int(time_[3])\n",
    "    if typ=='soft' and latency>=1500:\n",
    "        return True\n",
    "    if typ=='words' and latency>=1500 and completion>=2000 and minTyping>=200:\n",
    "        return True\n",
    "    if typ=='3D' and latency>=1500 and completion>=2000 and minTyping>=200:\n",
    "        return True\n",
    "    if typ=='maths' and latency>=1500 and completion>=1500 and minTyping>=200:\n",
    "        return True\n",
    "    if typ=='images' and latency>=1500 and completion>=1500 and minSelecting>=150:\n",
    "        return True\n",
    "    return False\n",
    "\n"
   ]
  },
  {
   "cell_type": "code",
   "execution_count": null,
   "metadata": {},
   "outputs": [],
   "source": [
    "import json\n",
    "app = Flask(__name__)\n",
    "\n",
    "def most_frequent(List):\n",
    "    return max(set(List), key = List.count)\n",
    "\n",
    "def Evaluate_times(times,typ):\n",
    "    times_=times.split('#') #in ms\n",
    "    latency=int(times_[0])\n",
    "    completion=int(time_[1])\n",
    "    minTyping=int(time_[2])\n",
    "    minSelecting=int(time_[3])\n",
    "    if typ=='soft' and latency>=1500:\n",
    "        return True\n",
    "    if typ=='words' and latency>=1500 and completion>=2000 and minTyping>=200:\n",
    "        return True\n",
    "    if typ=='3D' and latency>=1500 and completion>=2000 and minTyping>=200:\n",
    "        return True\n",
    "    if typ=='maths' and latency>=1500 and completion>=1500 and minTyping>=200:\n",
    "        return True\n",
    "    if typ=='images' and latency>=1500 and completion>=1500 and minSelecting>=150:\n",
    "        return True\n",
    "    return False\n",
    "\n",
    "def generate_captcha(type_,N):\n",
    "    n=random.randint(0, N+1)\n",
    "    words = db.collection('Captchas').where('type','==',type_).where('position','==',n).stream()\n",
    "    for word in words:\n",
    "        datas=word.to_dict()\n",
    "        return datas['image'],datas['solution']\n",
    "\n",
    "def generate_captcha_images():\n",
    "    N=800\n",
    "    positions=[]\n",
    "    images=[]\n",
    "    results=[]\n",
    "    for i in range(9):\n",
    "        positions.append(random.randint(0, N+1))\n",
    "    for pos in positions:\n",
    "        words = db.collection('Captchas').where('type','==','images').where('position','==',pos).stream()\n",
    "        for word in words:\n",
    "            datas=word.to_dict()\n",
    "            images.append(datas['image'])\n",
    "            results.append(datas['solution'])\n",
    "            break\n",
    "    return images,results\n",
    "    \n",
    "\n",
    "@app.route('/')\n",
    "def index():\n",
    "    return json.dumps({'name': 'alice',\n",
    "                       'email': 'alice@outlook.com'})\n",
    "\n",
    "resultw=\"\"\n",
    "\n",
    "@app.route('/getWord', methods=['GET'])\n",
    "def getWord():\n",
    "    im_,resultw=generate_captcha('word',132)\n",
    "    return im_\n",
    "\n",
    "@app.route('/get3d', methods=['GET'])\n",
    "def getWord():\n",
    "    im_,resultw=generate_captcha('3D',1)\n",
    "    return im_\n",
    "\n",
    "@app.route('/getMaths', methods=['GET'])\n",
    "def getWord():\n",
    "    im_,resultw=generate_captcha('maths',92)\n",
    "    return im_\n",
    "\n",
    "@app.route('/getImages', methods=['GET'])\n",
    "def getWord():\n",
    "    ims_,results = generate_captcha_images()\n",
    "    im=\"\"\n",
    "    for im in ims_:\n",
    "        im_ += im + \"#\"\n",
    "    subject = most_frequent(results)\n",
    "    resultw = \"\"\n",
    "    for res in results:\n",
    "        if res == subject :\n",
    "            resultw += \"1-\"\n",
    "        else:\n",
    "            resultw += \"0-\"\n",
    "    return im_\n",
    "\n",
    "@app.route('/testAnswer', methods=['GET'])\n",
    "def testAnswer():\n",
    "    answer = request.args.get('answer')\n",
    "    times = request.args.get('times')\n",
    "    type_ = request.args.get('type')\n",
    "    if answer==resultw+\"\" and Evaluate_times(times,type_):\n",
    "        return \"OK\" \n",
    "    else \n",
    "        return \"False\"\n",
    "\n",
    "@app.route('/testSoft', methods=['GET'])\n",
    "def testAnswer():\n",
    "    times = request.args.get('time')\n",
    "    if Evaluate_times(times,'soft'):\n",
    "        return \"OK\" \n",
    "    else \n",
    "        return \"False\"\n",
    "\n",
    "app.run()"
   ]
  },
  {
   "cell_type": "code",
   "execution_count": 83,
   "metadata": {},
   "outputs": [],
   "source": [
    "def generate_word():\n",
    "    N=132\n",
    "    n=random.randint(0, N+1)\n",
    "    words = db.collection('Captchas').where('type','==','words').where('position','==',n).stream()\n",
    "    for word in words:\n",
    "        datas=word.to_dict()\n",
    "        return datas['image'],datas['solution']\n",
    "\n",
    "def generate_captcha(type_,N):\n",
    "    n=random.randint(0, N+1)\n",
    "    words = db.collection('Captchas').where('type','==',type_).where('position','==',n).stream()\n",
    "    for word in words:\n",
    "        datas=word.to_dict()\n",
    "        return datas['image'],datas['solution']\n",
    "\n",
    "def generate_captcha_images():\n",
    "    N=800\n",
    "    positions=[]\n",
    "    images=[]\n",
    "    results=[]\n",
    "    for i in range(9):\n",
    "        positions.append(random.randint(0, N+1))\n",
    "    for pos in positions:\n",
    "        words = db.collection('Captchas').where('type','==','images').where('position','==',pos).stream()\n",
    "        for word in words:\n",
    "            datas=word.to_dict()\n",
    "            images.append(datas['image'])\n",
    "            results.append(datas['solution'])\n",
    "            break\n",
    "    return images,results\n",
    "    \n"
   ]
  },
  {
   "cell_type": "code",
   "execution_count": 84,
   "metadata": {},
   "outputs": [
    {
     "name": "stderr",
     "output_type": "stream",
     "text": [
      "c:\\Users\\Rogg\\AppData\\Local\\Programs\\Python\\Python39\\lib\\site-packages\\google\\cloud\\firestore_v1\\base_collection.py:290: UserWarning: Detected filter using positional arguments. Prefer using the 'filter' keyword argument instead.\n",
      "  return query.where(field_path, op_string, value)\n",
      "C:\\Users\\Rogg\\AppData\\Local\\Temp\\ipykernel_16740\\2356111036.py:24: UserWarning: Detected filter using positional arguments. Prefer using the 'filter' keyword argument instead.\n",
      "  words = db.collection('Captchas').where('type','==','images').where('position','==',pos).stream()\n"
     ]
    },
    {
     "data": {
      "text/plain": [
       "(['https://storage.googleapis.com/recaptcha-uic.appspot.com/images/1650228727570_9.jpg',\n",
       "  'https://storage.googleapis.com/recaptcha-uic.appspot.com/images/1650202134664_7.jpg',\n",
       "  'https://storage.googleapis.com/recaptcha-uic.appspot.com/images/1650200157246_9.jpg',\n",
       "  'https://storage.googleapis.com/recaptcha-uic.appspot.com/images/1650201994920_10.jpg',\n",
       "  'https://storage.googleapis.com/recaptcha-uic.appspot.com/images/1650200994808_15.jpg',\n",
       "  'https://storage.googleapis.com/recaptcha-uic.appspot.com/images/1650228783365_16.jpg',\n",
       "  'https://storage.googleapis.com/recaptcha-uic.appspot.com/images/1650200120107_10.jpg',\n",
       "  'https://storage.googleapis.com/recaptcha-uic.appspot.com/images/1650200036260_4.jpg',\n",
       "  'https://storage.googleapis.com/recaptcha-uic.appspot.com/images/1650202041581_12.jpg'],\n",
       " ['Velo',\n",
       "  'Bus',\n",
       "  'Avion',\n",
       "  'Moto',\n",
       "  'Camion',\n",
       "  'Bus',\n",
       "  'Avion',\n",
       "  'Bateau',\n",
       "  'Bateau'])"
      ]
     },
     "execution_count": 84,
     "metadata": {},
     "output_type": "execute_result"
    }
   ],
   "source": [
    "generate_captcha_images()"
   ]
  },
  {
   "cell_type": "code",
   "execution_count": 86,
   "metadata": {},
   "outputs": [
    {
     "name": "stderr",
     "output_type": "stream",
     "text": [
      "C:\\Users\\Rogg\\AppData\\Local\\Temp\\ipykernel_16740\\2356111036.py:11: UserWarning: Detected filter using positional arguments. Prefer using the 'filter' keyword argument instead.\n",
      "  words = db.collection('Captchas').where('type','==',type_).where('position','==',n).stream()\n"
     ]
    },
    {
     "data": {
      "text/plain": [
       "('https://storage.googleapis.com/recaptcha-uic.appspot.com/images/7jb6v5w.png',\n",
       " '7jb6v5w')"
      ]
     },
     "execution_count": 86,
     "metadata": {},
     "output_type": "execute_result"
    }
   ],
   "source": [
    "generate_captcha('3D',1)"
   ]
  },
  {
   "cell_type": "code",
   "execution_count": null,
   "metadata": {},
   "outputs": [],
   "source": []
  }
 ],
 "metadata": {
  "kernelspec": {
   "display_name": "Python 3",
   "language": "python",
   "name": "python3"
  },
  "language_info": {
   "codemirror_mode": {
    "name": "ipython",
    "version": 3
   },
   "file_extension": ".py",
   "mimetype": "text/x-python",
   "name": "python",
   "nbconvert_exporter": "python",
   "pygments_lexer": "ipython3",
   "version": "3.9.10"
  },
  "orig_nbformat": 4
 },
 "nbformat": 4,
 "nbformat_minor": 2
}
